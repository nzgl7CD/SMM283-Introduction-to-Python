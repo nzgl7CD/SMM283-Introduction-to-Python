{
 "cells": [
  {
   "cell_type": "markdown",
   "metadata": {},
   "source": [
    "# import statements"
   ]
  },
  {
   "cell_type": "code",
   "execution_count": 263,
   "metadata": {},
   "outputs": [],
   "source": [
    "import pandas as pd\n",
    "import numpy as np"
   ]
  },
  {
   "cell_type": "markdown",
   "metadata": {},
   "source": [
    "# create dataframe & clean data"
   ]
  },
  {
   "cell_type": "code",
   "execution_count": 264,
   "metadata": {},
   "outputs": [
    {
     "data": {
      "text/html": [
       "<div>\n",
       "<style scoped>\n",
       "    .dataframe tbody tr th:only-of-type {\n",
       "        vertical-align: middle;\n",
       "    }\n",
       "\n",
       "    .dataframe tbody tr th {\n",
       "        vertical-align: top;\n",
       "    }\n",
       "\n",
       "    .dataframe thead th {\n",
       "        text-align: right;\n",
       "    }\n",
       "</style>\n",
       "<table border=\"1\" class=\"dataframe\">\n",
       "  <thead>\n",
       "    <tr style=\"text-align: right;\">\n",
       "      <th></th>\n",
       "      <th>Nvidia</th>\n",
       "      <th>AAPL</th>\n",
       "      <th>BAESY</th>\n",
       "      <th>CJJD</th>\n",
       "      <th>AZN</th>\n",
       "      <th>SAS</th>\n",
       "      <th>TSLA</th>\n",
       "      <th>Saab AB</th>\n",
       "      <th>PFE</th>\n",
       "      <th>GME</th>\n",
       "      <th>HSBC</th>\n",
       "      <th>LVMH</th>\n",
       "    </tr>\n",
       "  </thead>\n",
       "  <tbody>\n",
       "    <tr>\n",
       "      <th>0</th>\n",
       "      <td>0.0281</td>\n",
       "      <td>0.0218</td>\n",
       "      <td>0.0478</td>\n",
       "      <td>0.0909</td>\n",
       "      <td>0.0321</td>\n",
       "      <td>-0.0232</td>\n",
       "      <td>0.0817</td>\n",
       "      <td>0.0439</td>\n",
       "      <td>0.0300</td>\n",
       "      <td>0.0042</td>\n",
       "      <td>0.0231</td>\n",
       "      <td>0.0656</td>\n",
       "    </tr>\n",
       "    <tr>\n",
       "      <th>1</th>\n",
       "      <td>-0.0273</td>\n",
       "      <td>-0.0037</td>\n",
       "      <td>0.0151</td>\n",
       "      <td>0.2833</td>\n",
       "      <td>0.0085</td>\n",
       "      <td>0.0040</td>\n",
       "      <td>-0.0787</td>\n",
       "      <td>-0.0957</td>\n",
       "      <td>0.0097</td>\n",
       "      <td>0.0067</td>\n",
       "      <td>0.0273</td>\n",
       "      <td>-0.0023</td>\n",
       "    </tr>\n",
       "    <tr>\n",
       "      <th>2</th>\n",
       "      <td>-0.0028</td>\n",
       "      <td>0.0377</td>\n",
       "      <td>0.0339</td>\n",
       "      <td>-0.2727</td>\n",
       "      <td>0.0110</td>\n",
       "      <td>0.0039</td>\n",
       "      <td>0.0811</td>\n",
       "      <td>-0.0256</td>\n",
       "      <td>0.0096</td>\n",
       "      <td>0.0538</td>\n",
       "      <td>0.0048</td>\n",
       "      <td>0.0158</td>\n",
       "    </tr>\n",
       "    <tr>\n",
       "      <th>3</th>\n",
       "      <td>0.0394</td>\n",
       "      <td>0.0489</td>\n",
       "      <td>0.0247</td>\n",
       "      <td>0.0000</td>\n",
       "      <td>0.0127</td>\n",
       "      <td>0.0078</td>\n",
       "      <td>0.0665</td>\n",
       "      <td>-0.0189</td>\n",
       "      <td>0.0000</td>\n",
       "      <td>0.1002</td>\n",
       "      <td>0.0235</td>\n",
       "      <td>0.0415</td>\n",
       "    </tr>\n",
       "    <tr>\n",
       "      <th>4</th>\n",
       "      <td>-0.0183</td>\n",
       "      <td>-0.0175</td>\n",
       "      <td>-0.0115</td>\n",
       "      <td>-0.0179</td>\n",
       "      <td>-0.0086</td>\n",
       "      <td>0.1089</td>\n",
       "      <td>0.1087</td>\n",
       "      <td>-0.0017</td>\n",
       "      <td>0.0027</td>\n",
       "      <td>-0.0282</td>\n",
       "      <td>-0.0469</td>\n",
       "      <td>-0.0114</td>\n",
       "    </tr>\n",
       "  </tbody>\n",
       "</table>\n",
       "</div>"
      ],
      "text/plain": [
       "   Nvidia    AAPL   BAESY    CJJD     AZN     SAS    TSLA  Saab AB     PFE  \\\n",
       "0  0.0281  0.0218  0.0478  0.0909  0.0321 -0.0232  0.0817   0.0439  0.0300   \n",
       "1 -0.0273 -0.0037  0.0151  0.2833  0.0085  0.0040 -0.0787  -0.0957  0.0097   \n",
       "2 -0.0028  0.0377  0.0339 -0.2727  0.0110  0.0039  0.0811  -0.0256  0.0096   \n",
       "3  0.0394  0.0489  0.0247  0.0000  0.0127  0.0078  0.0665  -0.0189  0.0000   \n",
       "4 -0.0183 -0.0175 -0.0115 -0.0179 -0.0086  0.1089  0.1087  -0.0017  0.0027   \n",
       "\n",
       "      GME    HSBC    LVMH  \n",
       "0  0.0042  0.0231  0.0656  \n",
       "1  0.0067  0.0273 -0.0023  \n",
       "2  0.0538  0.0048  0.0158  \n",
       "3  0.1002  0.0235  0.0415  \n",
       "4 -0.0282 -0.0469 -0.0114  "
      ]
     },
     "execution_count": 264,
     "metadata": {},
     "output_type": "execute_result"
    }
   ],
   "source": [
    "df = pd.read_csv(\"./PythonCW.csv\", header=0)\n",
    "df = df.dropna(axis=1)\n",
    "df = df.drop(columns=[\"Date\"])\n",
    "df.head()\n"
   ]
  },
  {
   "cell_type": "markdown",
   "metadata": {},
   "source": [
    "# Specify tickers"
   ]
  },
  {
   "cell_type": "code",
   "execution_count": 265,
   "metadata": {},
   "outputs": [
    {
     "data": {
      "text/html": [
       "<div>\n",
       "<style scoped>\n",
       "    .dataframe tbody tr th:only-of-type {\n",
       "        vertical-align: middle;\n",
       "    }\n",
       "\n",
       "    .dataframe tbody tr th {\n",
       "        vertical-align: top;\n",
       "    }\n",
       "\n",
       "    .dataframe thead th {\n",
       "        text-align: right;\n",
       "    }\n",
       "</style>\n",
       "<table border=\"1\" class=\"dataframe\">\n",
       "  <thead>\n",
       "    <tr style=\"text-align: right;\">\n",
       "      <th></th>\n",
       "      <th>Nvidia</th>\n",
       "      <th>AAPL</th>\n",
       "      <th>BAESY</th>\n",
       "    </tr>\n",
       "  </thead>\n",
       "  <tbody>\n",
       "    <tr>\n",
       "      <th>0</th>\n",
       "      <td>0.0281</td>\n",
       "      <td>0.0218</td>\n",
       "      <td>0.0478</td>\n",
       "    </tr>\n",
       "    <tr>\n",
       "      <th>1</th>\n",
       "      <td>-0.0273</td>\n",
       "      <td>-0.0037</td>\n",
       "      <td>0.0151</td>\n",
       "    </tr>\n",
       "    <tr>\n",
       "      <th>2</th>\n",
       "      <td>-0.0028</td>\n",
       "      <td>0.0377</td>\n",
       "      <td>0.0339</td>\n",
       "    </tr>\n",
       "    <tr>\n",
       "      <th>3</th>\n",
       "      <td>0.0394</td>\n",
       "      <td>0.0489</td>\n",
       "      <td>0.0247</td>\n",
       "    </tr>\n",
       "    <tr>\n",
       "      <th>4</th>\n",
       "      <td>-0.0183</td>\n",
       "      <td>-0.0175</td>\n",
       "      <td>-0.0115</td>\n",
       "    </tr>\n",
       "  </tbody>\n",
       "</table>\n",
       "</div>"
      ],
      "text/plain": [
       "   Nvidia    AAPL   BAESY\n",
       "0  0.0281  0.0218  0.0478\n",
       "1 -0.0273 -0.0037  0.0151\n",
       "2 -0.0028  0.0377  0.0339\n",
       "3  0.0394  0.0489  0.0247\n",
       "4 -0.0183 -0.0175 -0.0115"
      ]
     },
     "execution_count": 265,
     "metadata": {},
     "output_type": "execute_result"
    }
   ],
   "source": [
    "\n",
    "tickers = {\n",
    "    1: \"Nvidia\",\n",
    "    2: \"AAPL\",\n",
    "    3: \"BAESY\",\n",
    "    4: \"CJJD\",\n",
    "    5: \"AZN\",\n",
    "    6: \"SAS\",\n",
    "    7: \"TSLA\",\n",
    "    8: \"Saab AB\",\n",
    "    9: \"PFE\",\n",
    "    10: \"GME\",\n",
    "    11: \"HSBC\",\n",
    "    12: \"LVMH\"\n",
    "    }\n",
    "\n",
    "# Ask user what columns they want\n",
    "\n",
    "desired_columns = [1, 2, 3]\n",
    "desired_tickers = [ tickers[i] for i in desired_columns ]\n",
    "df = df[desired_tickers]\n",
    "\n",
    "df.head()\n",
    "\n",
    "# df.selected"
   ]
  },
  {
   "cell_type": "markdown",
   "metadata": {},
   "source": [
    "# Calculate mean"
   ]
  },
  {
   "cell_type": "code",
   "execution_count": 266,
   "metadata": {},
   "outputs": [
    {
     "data": {
      "text/plain": [
       "Nvidia    0.012052\n",
       "AAPL      0.005649\n",
       "BAESY     0.003030\n",
       "dtype: float64"
      ]
     },
     "execution_count": 266,
     "metadata": {},
     "output_type": "execute_result"
    }
   ],
   "source": [
    "mean = df.mean().transpose()\n",
    "\n",
    "mean"
   ]
  },
  {
   "cell_type": "markdown",
   "metadata": {},
   "source": [
    "# Calculate inv covariance"
   ]
  },
  {
   "cell_type": "code",
   "execution_count": 267,
   "metadata": {},
   "outputs": [
    {
     "data": {
      "text/html": [
       "<div>\n",
       "<style scoped>\n",
       "    .dataframe tbody tr th:only-of-type {\n",
       "        vertical-align: middle;\n",
       "    }\n",
       "\n",
       "    .dataframe tbody tr th {\n",
       "        vertical-align: top;\n",
       "    }\n",
       "\n",
       "    .dataframe thead th {\n",
       "        text-align: right;\n",
       "    }\n",
       "</style>\n",
       "<table border=\"1\" class=\"dataframe\">\n",
       "  <thead>\n",
       "    <tr style=\"text-align: right;\">\n",
       "      <th></th>\n",
       "      <th>Nvidia</th>\n",
       "      <th>AAPL</th>\n",
       "      <th>BAESY</th>\n",
       "    </tr>\n",
       "  </thead>\n",
       "  <tbody>\n",
       "    <tr>\n",
       "      <th>Nvidia</th>\n",
       "      <td>283.327784</td>\n",
       "      <td>925.748095</td>\n",
       "      <td>1774.251385</td>\n",
       "    </tr>\n",
       "    <tr>\n",
       "      <th>AAPL</th>\n",
       "      <td>925.748095</td>\n",
       "      <td>722.858590</td>\n",
       "      <td>2909.585175</td>\n",
       "    </tr>\n",
       "    <tr>\n",
       "      <th>BAESY</th>\n",
       "      <td>1774.251385</td>\n",
       "      <td>2909.585175</td>\n",
       "      <td>794.300774</td>\n",
       "    </tr>\n",
       "  </tbody>\n",
       "</table>\n",
       "</div>"
      ],
      "text/plain": [
       "             Nvidia         AAPL        BAESY\n",
       "Nvidia   283.327784   925.748095  1774.251385\n",
       "AAPL     925.748095   722.858590  2909.585175\n",
       "BAESY   1774.251385  2909.585175   794.300774"
      ]
     },
     "execution_count": 267,
     "metadata": {},
     "output_type": "execute_result"
    }
   ],
   "source": [
    "cov = df.cov()\n",
    "inv_cov = cov.apply(np.reciprocal)\n",
    "inv_cov"
   ]
  },
  {
   "cell_type": "markdown",
   "metadata": {},
   "source": [
    "# Calculate L\n",
    "#### For each asset mean x cov^-1\n",
    "\n",
    "e.g nvida & apple\n",
    "mean(nvid) x cov^-1(appl&nvid) + mean(appl) x cov^-1(appl&nvid)\n",
    "\n",
    "e.g. nvida & apple & baesy\n",
    "mean(nvid) x cov^-1(appl&nvid) + mean(appl) x cov^-1(appl&nvid)\n",
    "mean(bae) x cov^-1(appl&bae) + mean(appl) x cov^-1(appl&bae)\n",
    "mean(nvid) x cov^-1(appl&nvid) + mean(appl) x cov^-1(appl&nvid)"
   ]
  },
  {
   "cell_type": "code",
   "execution_count": 268,
   "metadata": {},
   "outputs": [
    {
     "name": "stdout",
     "output_type": "stream",
     "text": [
      "           Nvidia       AAPL     BAESY\n",
      "Nvidia   3.414568   5.229591  5.376136\n",
      "AAPL    11.156794   4.083460  8.816296\n",
      "BAESY   21.382661  16.436373  2.406800\n"
     ]
    },
    {
     "data": {
      "text/plain": [
       "np.float64(68.3978510588344)"
      ]
     },
     "execution_count": 268,
     "metadata": {},
     "output_type": "execute_result"
    }
   ],
   "source": [
    "l_matrix = inv_cov.mul(mean)\n",
    "print(l_matrix)\n",
    "l = l_matrix.sum().sum() - sum(np.diag(l_matrix))\n",
    "l\n"
   ]
  },
  {
   "cell_type": "markdown",
   "metadata": {},
   "source": [
    "# Calculate M"
   ]
  },
  {
   "cell_type": "code",
   "execution_count": 269,
   "metadata": {},
   "outputs": [
    {
     "name": "stdout",
     "output_type": "stream",
     "text": [
      "Nvidia    1\n",
      "AAPL      1\n",
      "BAESY     1\n",
      "dtype: int64\n",
      "             Nvidia         AAPL        BAESY\n",
      "Nvidia   283.327784   925.748095  1774.251385\n",
      "AAPL     925.748095   722.858590  2909.585175\n",
      "BAESY   1774.251385  2909.585175   794.300774\n",
      "             Nvidia         AAPL        BAESY\n",
      "Nvidia   283.327784   925.748095  1774.251385\n",
      "AAPL     925.748095   722.858590  2909.585175\n",
      "BAESY   1774.251385  2909.585175   794.300774\n"
     ]
    },
    {
     "data": {
      "text/plain": [
       "np.float64(11219.169309062185)"
      ]
     },
     "execution_count": 269,
     "metadata": {},
     "output_type": "execute_result"
    }
   ],
   "source": [
    "user_vector = 1\n",
    "vector = pd.Series([user_vector]*len(desired_columns), index = inv_cov.index)\n",
    "print(vector)\n",
    "print(inv_cov)\n",
    "\n",
    "m_matrix = inv_cov.mul(vector)\n",
    "print(m_matrix)\n",
    "m = m_matrix.sum().sum() - sum(np.diag(m_matrix))\n",
    "m\n",
    "\n"
   ]
  },
  {
   "cell_type": "markdown",
   "metadata": {},
   "source": [
    "# Calculate A"
   ]
  },
  {
   "cell_type": "code",
   "execution_count": 270,
   "metadata": {},
   "outputs": [
    {
     "name": "stdout",
     "output_type": "stream",
     "text": [
      "           Nvidia       AAPL     BAESY\n",
      "Nvidia   3.414568   5.229591  5.376136\n",
      "AAPL    11.156794   4.083460  8.816296\n",
      "BAESY   21.382661  16.436373  2.406800\n"
     ]
    },
    {
     "data": {
      "text/plain": [
       "np.float64(68.3978510588344)"
      ]
     },
     "execution_count": 270,
     "metadata": {},
     "output_type": "execute_result"
    }
   ],
   "source": [
    "a_matrix = inv_cov.mul(vector).mul(mean)\n",
    "print(a_matrix)\n",
    "a = a_matrix.sum().sum() - sum(np.diag(a_matrix))\n",
    "a"
   ]
  },
  {
   "cell_type": "markdown",
   "metadata": {},
   "source": [
    "# Calculate B"
   ]
  },
  {
   "cell_type": "code",
   "execution_count": 271,
   "metadata": {},
   "outputs": [
    {
     "name": "stdout",
     "output_type": "stream",
     "text": [
      "          Nvidia      AAPL     BAESY\n",
      "Nvidia  0.041151  0.063025  0.064791\n",
      "AAPL    0.063025  0.023068  0.049804\n",
      "BAESY   0.064791  0.049804  0.007293\n"
     ]
    },
    {
     "data": {
      "text/plain": [
       "np.float64(0.35524035074075316)"
      ]
     },
     "execution_count": 271,
     "metadata": {},
     "output_type": "execute_result"
    }
   ],
   "source": [
    "b_matrix = inv_cov.mul(mean).transpose().mul(mean).transpose()\n",
    "print(b_matrix)\n",
    "b = b_matrix.sum().sum() - sum(np.diag(b_matrix))\n",
    "b\n"
   ]
  },
  {
   "cell_type": "markdown",
   "metadata": {},
   "source": [
    "# Calculate C"
   ]
  },
  {
   "cell_type": "code",
   "execution_count": 272,
   "metadata": {},
   "outputs": [
    {
     "name": "stdout",
     "output_type": "stream",
     "text": [
      "             Nvidia         AAPL        BAESY\n",
      "Nvidia   283.327784   925.748095  1774.251385\n",
      "AAPL     925.748095   722.858590  2909.585175\n",
      "BAESY   1774.251385  2909.585175   794.300774\n"
     ]
    },
    {
     "data": {
      "text/plain": [
       "np.float64(11219.169309062185)"
      ]
     },
     "execution_count": 272,
     "metadata": {},
     "output_type": "execute_result"
    }
   ],
   "source": [
    "c_matrix = inv_cov.mul(vector).transpose().mul(vector).transpose()\n",
    "print(c_matrix)\n",
    "c = c_matrix.sum().sum() - sum(np.diag(c_matrix))\n",
    "c"
   ]
  },
  {
   "cell_type": "markdown",
   "metadata": {},
   "source": [
    "# Calculate D"
   ]
  },
  {
   "cell_type": "code",
   "execution_count": 273,
   "metadata": {},
   "outputs": [
    {
     "data": {
      "text/plain": [
       "np.float64(-692.7643890953509)"
      ]
     },
     "execution_count": 273,
     "metadata": {},
     "output_type": "execute_result"
    }
   ],
   "source": [
    "d = b * c - (a**2)\n",
    "d"
   ]
  },
  {
   "cell_type": "markdown",
   "metadata": {},
   "source": [
    "# Calculate G"
   ]
  },
  {
   "cell_type": "code",
   "execution_count": 274,
   "metadata": {},
   "outputs": [
    {
     "data": {
      "text/plain": [
       "np.float64(2.0836697643957237e-06)"
      ]
     },
     "execution_count": 274,
     "metadata": {},
     "output_type": "execute_result"
    }
   ],
   "source": [
    "g = 1/(d * ( (m*b) - (l*a) ))\n",
    "g"
   ]
  },
  {
   "cell_type": "markdown",
   "metadata": {},
   "source": [
    "# Calculate H"
   ]
  },
  {
   "cell_type": "code",
   "execution_count": 275,
   "metadata": {},
   "outputs": [
    {
     "name": "stderr",
     "output_type": "stream",
     "text": [
      "/var/folders/jy/2kxj96957pd588fj_3z8nxdh0000gn/T/ipykernel_88845/2631217186.py:1: RuntimeWarning: divide by zero encountered in scalar divide\n",
      "  h = 1/(d * ( (l*c) - (m*a) ))\n"
     ]
    },
    {
     "data": {
      "text/plain": [
       "np.float64(-inf)"
      ]
     },
     "execution_count": 275,
     "metadata": {},
     "output_type": "execute_result"
    }
   ],
   "source": [
    "h = 1/(d * ( (l*c) - (m*a) ))\n",
    "h"
   ]
  }
 ],
 "metadata": {
  "kernelspec": {
   "display_name": "woody-uni",
   "language": "python",
   "name": "python3"
  },
  "language_info": {
   "codemirror_mode": {
    "name": "ipython",
    "version": 3
   },
   "file_extension": ".py",
   "mimetype": "text/x-python",
   "name": "python",
   "nbconvert_exporter": "python",
   "pygments_lexer": "ipython3",
   "version": "3.12.4"
  }
 },
 "nbformat": 4,
 "nbformat_minor": 2
}
