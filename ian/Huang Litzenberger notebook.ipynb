{
 "cells": [
  {
   "cell_type": "markdown",
   "metadata": {},
   "source": [
    "# import statements"
   ]
  },
  {
   "cell_type": "code",
   "execution_count": 229,
   "metadata": {},
   "outputs": [],
   "source": [
    "import pandas as pd\n",
    "import numpy as np"
   ]
  },
  {
   "cell_type": "markdown",
   "metadata": {},
   "source": [
    "# User Defined Parameters"
   ]
  },
  {
   "cell_type": "code",
   "execution_count": 230,
   "metadata": {},
   "outputs": [],
   "source": [
    "risk_adv = 3\n",
    "risk_free = 0.045\n",
    "target_return = 0.07"
   ]
  },
  {
   "cell_type": "markdown",
   "metadata": {},
   "source": [
    "# create dataframe & clean data"
   ]
  },
  {
   "cell_type": "code",
   "execution_count": 231,
   "metadata": {},
   "outputs": [
    {
     "data": {
      "text/html": [
       "<div>\n",
       "<style scoped>\n",
       "    .dataframe tbody tr th:only-of-type {\n",
       "        vertical-align: middle;\n",
       "    }\n",
       "\n",
       "    .dataframe tbody tr th {\n",
       "        vertical-align: top;\n",
       "    }\n",
       "\n",
       "    .dataframe thead th {\n",
       "        text-align: right;\n",
       "    }\n",
       "</style>\n",
       "<table border=\"1\" class=\"dataframe\">\n",
       "  <thead>\n",
       "    <tr style=\"text-align: right;\">\n",
       "      <th></th>\n",
       "      <th>Nvidia</th>\n",
       "      <th>AAPL</th>\n",
       "      <th>BAESY</th>\n",
       "      <th>CJJD</th>\n",
       "      <th>AZN</th>\n",
       "      <th>SAS</th>\n",
       "      <th>TSLA</th>\n",
       "      <th>Saab AB</th>\n",
       "      <th>PFE</th>\n",
       "      <th>GME</th>\n",
       "      <th>HSBC</th>\n",
       "      <th>LVMH</th>\n",
       "    </tr>\n",
       "  </thead>\n",
       "  <tbody>\n",
       "    <tr>\n",
       "      <th>0</th>\n",
       "      <td>0.0281</td>\n",
       "      <td>0.0218</td>\n",
       "      <td>0.0478</td>\n",
       "      <td>0.0909</td>\n",
       "      <td>0.0321</td>\n",
       "      <td>-0.0232</td>\n",
       "      <td>0.0817</td>\n",
       "      <td>0.0439</td>\n",
       "      <td>0.0300</td>\n",
       "      <td>0.0042</td>\n",
       "      <td>0.0231</td>\n",
       "      <td>0.0656</td>\n",
       "    </tr>\n",
       "    <tr>\n",
       "      <th>1</th>\n",
       "      <td>-0.0273</td>\n",
       "      <td>-0.0037</td>\n",
       "      <td>0.0151</td>\n",
       "      <td>0.2833</td>\n",
       "      <td>0.0085</td>\n",
       "      <td>0.0040</td>\n",
       "      <td>-0.0787</td>\n",
       "      <td>-0.0957</td>\n",
       "      <td>0.0097</td>\n",
       "      <td>0.0067</td>\n",
       "      <td>0.0273</td>\n",
       "      <td>-0.0023</td>\n",
       "    </tr>\n",
       "    <tr>\n",
       "      <th>2</th>\n",
       "      <td>-0.0028</td>\n",
       "      <td>0.0377</td>\n",
       "      <td>0.0339</td>\n",
       "      <td>-0.2727</td>\n",
       "      <td>0.0110</td>\n",
       "      <td>0.0039</td>\n",
       "      <td>0.0811</td>\n",
       "      <td>-0.0256</td>\n",
       "      <td>0.0096</td>\n",
       "      <td>0.0538</td>\n",
       "      <td>0.0048</td>\n",
       "      <td>0.0158</td>\n",
       "    </tr>\n",
       "    <tr>\n",
       "      <th>3</th>\n",
       "      <td>0.0394</td>\n",
       "      <td>0.0489</td>\n",
       "      <td>0.0247</td>\n",
       "      <td>0.0000</td>\n",
       "      <td>0.0127</td>\n",
       "      <td>0.0078</td>\n",
       "      <td>0.0665</td>\n",
       "      <td>-0.0189</td>\n",
       "      <td>0.0000</td>\n",
       "      <td>0.1002</td>\n",
       "      <td>0.0235</td>\n",
       "      <td>0.0415</td>\n",
       "    </tr>\n",
       "    <tr>\n",
       "      <th>4</th>\n",
       "      <td>-0.0183</td>\n",
       "      <td>-0.0175</td>\n",
       "      <td>-0.0115</td>\n",
       "      <td>-0.0179</td>\n",
       "      <td>-0.0086</td>\n",
       "      <td>0.1089</td>\n",
       "      <td>0.1087</td>\n",
       "      <td>-0.0017</td>\n",
       "      <td>0.0027</td>\n",
       "      <td>-0.0282</td>\n",
       "      <td>-0.0469</td>\n",
       "      <td>-0.0114</td>\n",
       "    </tr>\n",
       "  </tbody>\n",
       "</table>\n",
       "</div>"
      ],
      "text/plain": [
       "   Nvidia    AAPL   BAESY    CJJD     AZN     SAS    TSLA  Saab AB     PFE  \\\n",
       "0  0.0281  0.0218  0.0478  0.0909  0.0321 -0.0232  0.0817   0.0439  0.0300   \n",
       "1 -0.0273 -0.0037  0.0151  0.2833  0.0085  0.0040 -0.0787  -0.0957  0.0097   \n",
       "2 -0.0028  0.0377  0.0339 -0.2727  0.0110  0.0039  0.0811  -0.0256  0.0096   \n",
       "3  0.0394  0.0489  0.0247  0.0000  0.0127  0.0078  0.0665  -0.0189  0.0000   \n",
       "4 -0.0183 -0.0175 -0.0115 -0.0179 -0.0086  0.1089  0.1087  -0.0017  0.0027   \n",
       "\n",
       "      GME    HSBC    LVMH  \n",
       "0  0.0042  0.0231  0.0656  \n",
       "1  0.0067  0.0273 -0.0023  \n",
       "2  0.0538  0.0048  0.0158  \n",
       "3  0.1002  0.0235  0.0415  \n",
       "4 -0.0282 -0.0469 -0.0114  "
      ]
     },
     "execution_count": 231,
     "metadata": {},
     "output_type": "execute_result"
    }
   ],
   "source": [
    "# df = pd.read_csv('./example_data.csv', header=0)\n",
    "# df.index = [\"Return\", \"Risk\"]\n",
    "\n",
    "df = pd.read_csv('./PythonCW.csv', header=0)\n",
    "df = df.dropna(axis=1)\n",
    "df = df.drop(columns=[\"Date\"])\n",
    "df.head()\n"
   ]
  },
  {
   "cell_type": "markdown",
   "metadata": {},
   "source": [
    "# Specify tickers"
   ]
  },
  {
   "cell_type": "code",
   "execution_count": 232,
   "metadata": {},
   "outputs": [
    {
     "data": {
      "text/html": [
       "<div>\n",
       "<style scoped>\n",
       "    .dataframe tbody tr th:only-of-type {\n",
       "        vertical-align: middle;\n",
       "    }\n",
       "\n",
       "    .dataframe tbody tr th {\n",
       "        vertical-align: top;\n",
       "    }\n",
       "\n",
       "    .dataframe thead th {\n",
       "        text-align: right;\n",
       "    }\n",
       "</style>\n",
       "<table border=\"1\" class=\"dataframe\">\n",
       "  <thead>\n",
       "    <tr style=\"text-align: right;\">\n",
       "      <th></th>\n",
       "      <th>Nvidia</th>\n",
       "      <th>AAPL</th>\n",
       "      <th>BAESY</th>\n",
       "    </tr>\n",
       "  </thead>\n",
       "  <tbody>\n",
       "    <tr>\n",
       "      <th>0</th>\n",
       "      <td>0.0281</td>\n",
       "      <td>0.0218</td>\n",
       "      <td>0.0478</td>\n",
       "    </tr>\n",
       "    <tr>\n",
       "      <th>1</th>\n",
       "      <td>-0.0273</td>\n",
       "      <td>-0.0037</td>\n",
       "      <td>0.0151</td>\n",
       "    </tr>\n",
       "    <tr>\n",
       "      <th>2</th>\n",
       "      <td>-0.0028</td>\n",
       "      <td>0.0377</td>\n",
       "      <td>0.0339</td>\n",
       "    </tr>\n",
       "    <tr>\n",
       "      <th>3</th>\n",
       "      <td>0.0394</td>\n",
       "      <td>0.0489</td>\n",
       "      <td>0.0247</td>\n",
       "    </tr>\n",
       "    <tr>\n",
       "      <th>4</th>\n",
       "      <td>-0.0183</td>\n",
       "      <td>-0.0175</td>\n",
       "      <td>-0.0115</td>\n",
       "    </tr>\n",
       "  </tbody>\n",
       "</table>\n",
       "</div>"
      ],
      "text/plain": [
       "   Nvidia    AAPL   BAESY\n",
       "0  0.0281  0.0218  0.0478\n",
       "1 -0.0273 -0.0037  0.0151\n",
       "2 -0.0028  0.0377  0.0339\n",
       "3  0.0394  0.0489  0.0247\n",
       "4 -0.0183 -0.0175 -0.0115"
      ]
     },
     "execution_count": 232,
     "metadata": {},
     "output_type": "execute_result"
    }
   ],
   "source": [
    "\n",
    "tickers = {\n",
    "    # 1: \"Artemis Corporate Bond\",\n",
    "    # 2: \"Royal London Corporate Bond\",\n",
    "    # 3: \"Legal & General All Stocks Gilt Index Trust\",\n",
    "    # 4: \"iShares Corporate Bond Index\",\n",
    "    # 5: \"JPM Emerging Markets\",\n",
    "    # 6: \"CT European Select\",\n",
    "    # 7: \"Barings Europe Select\",\n",
    "    # 8: \"Polar Capital European ex-UK Income\",\n",
    "    # 9: \"BlackRock Continental European Income\",\n",
    "    # 10: \"Legal & General European Index\",\n",
    "    # 11: \"Rathbone Global Opportunities\",\n",
    "    # 12: \"Baillie Gifford Managed\",\n",
    "    1: \"Nvidia\",\n",
    "    2: \"AAPL\",\n",
    "    3: \"BAESY\",\n",
    "    4: \"CJJD\",\n",
    "    5: \"AZN\",\n",
    "    6: \"SAS\",\n",
    "    7: \"TSLA\",\n",
    "    8: \"Saab AB\",\n",
    "    9: \"PFE\",\n",
    "    10: \"GME\",\n",
    "    11: \"HSBC\",\n",
    "    12: \"LVMH\"\n",
    "    }\n",
    "\n",
    "# Ask user what columns they want\n",
    "\n",
    "desired_columns = [1, 2, 3]\n",
    "desired_tickers = [ tickers[i] for i in desired_columns ]\n",
    "df = df[desired_tickers]\n",
    "\n",
    "df.head()\n",
    "\n",
    "# df.selected"
   ]
  },
  {
   "cell_type": "markdown",
   "metadata": {},
   "source": [
    "# Calculate expected returns (mean 👎)"
   ]
  },
  {
   "cell_type": "code",
   "execution_count": 233,
   "metadata": {},
   "outputs": [
    {
     "data": {
      "text/plain": [
       "Nvidia    0.012052\n",
       "AAPL      0.005649\n",
       "BAESY     0.003030\n",
       "dtype: float64"
      ]
     },
     "execution_count": 233,
     "metadata": {},
     "output_type": "execute_result"
    }
   ],
   "source": [
    "ex_returns = df.mean()\n",
    "\n",
    "ex_returns.head()"
   ]
  },
  {
   "cell_type": "markdown",
   "metadata": {},
   "source": [
    "# Calculate Standard Deviation"
   ]
  },
  {
   "cell_type": "code",
   "execution_count": 234,
   "metadata": {},
   "outputs": [
    {
     "data": {
      "text/plain": [
       "Nvidia    0.059409\n",
       "AAPL      0.037194\n",
       "BAESY     0.035482\n",
       "dtype: float64"
      ]
     },
     "execution_count": 234,
     "metadata": {},
     "output_type": "execute_result"
    }
   ],
   "source": [
    "vol = df.std()\n",
    "vol.head()"
   ]
  },
  {
   "cell_type": "markdown",
   "metadata": {},
   "source": [
    "# Calculate Correlation"
   ]
  },
  {
   "cell_type": "code",
   "execution_count": 235,
   "metadata": {},
   "outputs": [
    {
     "data": {
      "text/html": [
       "<div>\n",
       "<style scoped>\n",
       "    .dataframe tbody tr th:only-of-type {\n",
       "        vertical-align: middle;\n",
       "    }\n",
       "\n",
       "    .dataframe tbody tr th {\n",
       "        vertical-align: top;\n",
       "    }\n",
       "\n",
       "    .dataframe thead th {\n",
       "        text-align: right;\n",
       "    }\n",
       "</style>\n",
       "<table border=\"1\" class=\"dataframe\">\n",
       "  <thead>\n",
       "    <tr style=\"text-align: right;\">\n",
       "      <th></th>\n",
       "      <th>Nvidia</th>\n",
       "      <th>AAPL</th>\n",
       "      <th>BAESY</th>\n",
       "    </tr>\n",
       "  </thead>\n",
       "  <tbody>\n",
       "    <tr>\n",
       "      <th>Nvidia</th>\n",
       "      <td>1.000000</td>\n",
       "      <td>0.488853</td>\n",
       "      <td>0.267376</td>\n",
       "    </tr>\n",
       "    <tr>\n",
       "      <th>AAPL</th>\n",
       "      <td>0.488853</td>\n",
       "      <td>1.000000</td>\n",
       "      <td>0.260428</td>\n",
       "    </tr>\n",
       "    <tr>\n",
       "      <th>BAESY</th>\n",
       "      <td>0.267376</td>\n",
       "      <td>0.260428</td>\n",
       "      <td>1.000000</td>\n",
       "    </tr>\n",
       "  </tbody>\n",
       "</table>\n",
       "</div>"
      ],
      "text/plain": [
       "          Nvidia      AAPL     BAESY\n",
       "Nvidia  1.000000  0.488853  0.267376\n",
       "AAPL    0.488853  1.000000  0.260428\n",
       "BAESY   0.267376  0.260428  1.000000"
      ]
     },
     "execution_count": 235,
     "metadata": {},
     "output_type": "execute_result"
    }
   ],
   "source": [
    "corr = df.corr()\n",
    "corr.head()"
   ]
  },
  {
   "cell_type": "markdown",
   "metadata": {},
   "source": [
    "# Calculate Covariance"
   ]
  },
  {
   "cell_type": "code",
   "execution_count": 236,
   "metadata": {},
   "outputs": [
    {
     "data": {
      "text/html": [
       "<div>\n",
       "<style scoped>\n",
       "    .dataframe tbody tr th:only-of-type {\n",
       "        vertical-align: middle;\n",
       "    }\n",
       "\n",
       "    .dataframe tbody tr th {\n",
       "        vertical-align: top;\n",
       "    }\n",
       "\n",
       "    .dataframe thead th {\n",
       "        text-align: right;\n",
       "    }\n",
       "</style>\n",
       "<table border=\"1\" class=\"dataframe\">\n",
       "  <thead>\n",
       "    <tr style=\"text-align: right;\">\n",
       "      <th></th>\n",
       "      <th>Nvidia</th>\n",
       "      <th>AAPL</th>\n",
       "      <th>BAESY</th>\n",
       "    </tr>\n",
       "  </thead>\n",
       "  <tbody>\n",
       "    <tr>\n",
       "      <th>Nvidia</th>\n",
       "      <td>0.003529</td>\n",
       "      <td>0.001080</td>\n",
       "      <td>0.000564</td>\n",
       "    </tr>\n",
       "    <tr>\n",
       "      <th>AAPL</th>\n",
       "      <td>0.001080</td>\n",
       "      <td>0.001383</td>\n",
       "      <td>0.000344</td>\n",
       "    </tr>\n",
       "    <tr>\n",
       "      <th>BAESY</th>\n",
       "      <td>0.000564</td>\n",
       "      <td>0.000344</td>\n",
       "      <td>0.001259</td>\n",
       "    </tr>\n",
       "  </tbody>\n",
       "</table>\n",
       "</div>"
      ],
      "text/plain": [
       "          Nvidia      AAPL     BAESY\n",
       "Nvidia  0.003529  0.001080  0.000564\n",
       "AAPL    0.001080  0.001383  0.000344\n",
       "BAESY   0.000564  0.000344  0.001259"
      ]
     },
     "execution_count": 236,
     "metadata": {},
     "output_type": "execute_result"
    }
   ],
   "source": [
    "cov = corr.mul(vol).transpose().mul(vol).transpose()\n",
    "cov.head()"
   ]
  },
  {
   "cell_type": "markdown",
   "metadata": {},
   "source": [
    "# Calculate inv covariance"
   ]
  },
  {
   "cell_type": "code",
   "execution_count": 237,
   "metadata": {},
   "outputs": [
    {
     "data": {
      "text/plain": [
       "array([[ 382.88720335, -275.04104375,  -96.32709326],\n",
       "       [-275.04104375,  973.0234089 , -142.49906576],\n",
       "       [ -96.32709326, -142.49906576,  876.32616144]])"
      ]
     },
     "execution_count": 237,
     "metadata": {},
     "output_type": "execute_result"
    }
   ],
   "source": [
    "inv_cov = np.linalg.inv(cov)\n",
    "inv_cov"
   ]
  },
  {
   "cell_type": "markdown",
   "metadata": {},
   "source": [
    "# Calculate L\n",
    "#### For each asset expected return x cov^-1\n",
    "\n",
    "e.g nvida & apple\n",
    "mean(nvid) x cov^-1(appl&nvid) + mean(appl) x cov^-1(appl&nvid)\n",
    "\n",
    "e.g. nvida & apple & baesy\n",
    "mean(nvid) x cov^-1(appl&nvid) + mean(appl) x cov^-1(appl&nvid)\n",
    "mean(bae) x cov^-1(appl&bae) + mean(appl) x cov^-1(appl&bae)\n",
    "mean(nvid) x cov^-1(appl&nvid) + mean(appl) x cov^-1(appl&nvid)"
   ]
  },
  {
   "cell_type": "code",
   "execution_count": 238,
   "metadata": {},
   "outputs": [
    {
     "name": "stdout",
     "output_type": "stream",
     "text": [
      "[2.76882511 1.75016799 0.68946043]\n"
     ]
    }
   ],
   "source": [
    "l_matrix = ex_returns @ inv_cov\n",
    "print(l_matrix)\n"
   ]
  },
  {
   "cell_type": "markdown",
   "metadata": {},
   "source": [
    "# Calculate M"
   ]
  },
  {
   "cell_type": "code",
   "execution_count": 239,
   "metadata": {},
   "outputs": [
    {
     "data": {
      "text/plain": [
       "array([ 11.51906634, 555.48329939, 637.50000241])"
      ]
     },
     "execution_count": 239,
     "metadata": {},
     "output_type": "execute_result"
    }
   ],
   "source": [
    "user_vector = 1\n",
    "vector = pd.Series([user_vector]*len(desired_columns))\n",
    "\n",
    "m_matrix = vector @ inv_cov\n",
    "\n",
    "m_matrix\n",
    "\n"
   ]
  },
  {
   "cell_type": "markdown",
   "metadata": {},
   "source": [
    "# Calculate A"
   ]
  },
  {
   "cell_type": "code",
   "execution_count": 240,
   "metadata": {},
   "outputs": [
    {
     "data": {
      "text/plain": [
       "5.208453532660908"
      ]
     },
     "execution_count": 240,
     "metadata": {},
     "output_type": "execute_result"
    }
   ],
   "source": [
    "a = vector @ l_matrix\n",
    "a"
   ]
  },
  {
   "cell_type": "markdown",
   "metadata": {},
   "source": [
    "# Calculate B"
   ]
  },
  {
   "cell_type": "code",
   "execution_count": 241,
   "metadata": {},
   "outputs": [
    {
     "data": {
      "text/plain": [
       "0.04534481731712773"
      ]
     },
     "execution_count": 241,
     "metadata": {},
     "output_type": "execute_result"
    }
   ],
   "source": [
    "b = ex_returns @ l_matrix\n",
    "b"
   ]
  },
  {
   "cell_type": "markdown",
   "metadata": {},
   "source": [
    "# Calculate C"
   ]
  },
  {
   "cell_type": "code",
   "execution_count": 242,
   "metadata": {},
   "outputs": [
    {
     "data": {
      "text/plain": [
       "1204.502368140366"
      ]
     },
     "execution_count": 242,
     "metadata": {},
     "output_type": "execute_result"
    }
   ],
   "source": [
    "c = vector @ m_matrix\n",
    "c"
   ]
  },
  {
   "cell_type": "markdown",
   "metadata": {},
   "source": [
    "# Calculate D"
   ]
  },
  {
   "cell_type": "code",
   "execution_count": 243,
   "metadata": {},
   "outputs": [
    {
     "data": {
      "text/plain": [
       "27.489951639484733"
      ]
     },
     "execution_count": 243,
     "metadata": {},
     "output_type": "execute_result"
    }
   ],
   "source": [
    "d = b * c - (a**2)\n",
    "d"
   ]
  },
  {
   "cell_type": "markdown",
   "metadata": {},
   "source": [
    "# Calculate G"
   ]
  },
  {
   "cell_type": "code",
   "execution_count": 244,
   "metadata": {},
   "outputs": [
    {
     "data": {
      "text/plain": [
       "array([-0.50560173,  0.58467255,  0.92092918])"
      ]
     },
     "execution_count": 244,
     "metadata": {},
     "output_type": "execute_result"
    }
   ],
   "source": [
    "g = 1/(d) * ( (m_matrix*b) - (l_matrix*a) )\n",
    "g"
   ]
  },
  {
   "cell_type": "markdown",
   "metadata": {},
   "source": [
    "# Calculate H"
   ]
  },
  {
   "cell_type": "code",
   "execution_count": 245,
   "metadata": {},
   "outputs": [
    {
     "data": {
      "text/plain": [
       "array([119.13661861, -28.56052553, -90.57609308])"
      ]
     },
     "execution_count": 245,
     "metadata": {},
     "output_type": "execute_result"
    }
   ],
   "source": [
    "h = 1/(d) * ( (l_matrix*c) - (m_matrix*a) )\n",
    "h"
   ]
  },
  {
   "cell_type": "markdown",
   "metadata": {},
   "source": [
    "# Calculate G+H"
   ]
  },
  {
   "cell_type": "code",
   "execution_count": 246,
   "metadata": {},
   "outputs": [
    {
     "data": {
      "text/plain": [
       "array([118.63101689, -27.97585298, -89.6551639 ])"
      ]
     },
     "execution_count": 246,
     "metadata": {},
     "output_type": "execute_result"
    }
   ],
   "source": [
    "gh = g + h\n",
    "gh"
   ]
  },
  {
   "cell_type": "markdown",
   "metadata": {},
   "source": [
    "# Calculate Optimum Weights"
   ]
  },
  {
   "cell_type": "code",
   "execution_count": 247,
   "metadata": {},
   "outputs": [
    {
     "data": {
      "text/plain": [
       "array([ 7.83396158, -1.41456424, -5.41939734])"
      ]
     },
     "execution_count": 247,
     "metadata": {},
     "output_type": "execute_result"
    }
   ],
   "source": [
    "optimum_weights = g +( target_return * h )\n",
    "optimum_weights"
   ]
  },
  {
   "cell_type": "markdown",
   "metadata": {},
   "source": [
    "# Calculate Risk/Return for Optimum Weights"
   ]
  },
  {
   "cell_type": "code",
   "execution_count": 248,
   "metadata": {},
   "outputs": [
    {
     "name": "stdout",
     "output_type": "stream",
     "text": [
      "0.07000000000000002\n",
      "0.43568672380631446\n"
     ]
    }
   ],
   "source": [
    "return_optimum_point = optimum_weights @ ex_returns\n",
    "risk_optimum_point = (optimum_weights.T @ cov @ optimum_weights) ** (1/2)\n",
    "\n",
    "print(return_optimum_point)\n",
    "print(risk_optimum_point)"
   ]
  },
  {
   "cell_type": "markdown",
   "metadata": {},
   "source": [
    "# Calculate Risk/Return for G, H and G+H"
   ]
  },
  {
   "cell_type": "code",
   "execution_count": 249,
   "metadata": {},
   "outputs": [
    {
     "name": "stdout",
     "output_type": "stream",
     "text": [
      "risk_g=\t\t0.04061410061441259\n",
      "risk_h=\t\t6.619372802126952\n",
      "risk_g+h=\t6.59081259915595\n"
     ]
    }
   ],
   "source": [
    "return_g = g @ ex_returns\n",
    "risk_g = (g.T @ cov @ g) ** (1/2)\n",
    "\n",
    "return_h = h @ ex_returns\n",
    "risk_h = (h.T @ cov @ h) ** (1/2)\n",
    "\n",
    "return_gh = gh @ ex_returns\n",
    "risk_gh = (gh.T @ cov @ gh) ** (1/2)\n",
    "\n",
    "print(f\"risk_g=\\t\\t{risk_g}\\nrisk_h=\\t\\t{risk_h}\\nrisk_g+h=\\t{risk_gh}\")"
   ]
  },
  {
   "cell_type": "markdown",
   "metadata": {},
   "source": [
    "# Calculate Variance Portfolio Returns"
   ]
  },
  {
   "cell_type": "code",
   "execution_count": 250,
   "metadata": {},
   "outputs": [
    {
     "name": "stdout",
     "output_type": "stream",
     "text": [
      "0.004324153833505742\n",
      "0.0038583296158371974\n"
     ]
    }
   ],
   "source": [
    "#compute minimum variance portfolio return\n",
    "min_var = a/c\n",
    "#compute optimum variance portfolio return\n",
    "opt_var = min_var - (d/(c**2))/(risk_free - min_var)\n",
    "\n",
    "print(min_var)\n",
    "print(opt_var)"
   ]
  },
  {
   "cell_type": "markdown",
   "metadata": {},
   "source": [
    "# Some shitty for loop"
   ]
  },
  {
   "cell_type": "code",
   "execution_count": 254,
   "metadata": {},
   "outputs": [
    {
     "name": "stdout",
     "output_type": "stream",
     "text": [
      "0.14489867305926762\n",
      "Data saved to portfolio_analysis.xlsx\n"
     ]
    }
   ],
   "source": [
    "portfolio_returns = []\n",
    "portfolio_risk = []\n",
    "portfolio_weights = []\n",
    "portfolio_utility = []\n",
    "portfolio_sharpe_ratios = []\n",
    "\n",
    "p_returns = np.linspace(0, 1, 101)\n",
    "\n",
    "for i in p_returns:\n",
    "\n",
    "    p_weights=g+(i*h)\n",
    "    p_return = np.sum(p_weights * ex_returns)\n",
    "    portfolio_variance = np.dot(p_weights.T, np.dot(cov, p_weights))\n",
    "    p_risk = (p_weights @ cov @ p_weights.T)**0.5\n",
    "    excess_return = p_return - risk_free\n",
    "    p_sharpe_ratios = excess_return / p_risk\n",
    "    p_utility = p_return - (0.5 * risk_adv * portfolio_variance)\n",
    "\n",
    "\n",
    "    portfolio_weights.append(p_weights)\n",
    "    portfolio_risk.append(p_risk)\n",
    "    portfolio_utility.append(p_utility)\n",
    "    portfolio_sharpe_ratios.append(p_sharpe_ratios)\n",
    "    portfolio_returns.append(p_return)\n",
    "\n",
    "portfolio_returns = np.array(portfolio_returns)\n",
    "portfolio_risk = np.array(portfolio_risk)\n",
    "portfolio_weights = np.array(portfolio_weights)\n",
    "portfolio_utility = np.array(portfolio_utility)\n",
    "#portfolio_sharpe_ratios=np.array(portfolio_sharpe_ratios)\n",
    "\n",
    "max_sharpe = max(portfolio_sharpe_ratios)\n",
    "\n",
    "portfolio_capital_allocations = []\n",
    "\n",
    "for i in p_returns:\n",
    "    p_weights=g+(i*h)\n",
    "    p_risk = (p_weights @ cov @ p_weights.T)**0.5\n",
    "\n",
    "    p_capital_allocation = risk_free + (max_sharpe * p_risk)\n",
    "\n",
    "    portfolio_capital_allocations.append(p_capital_allocation)\n",
    "\n",
    "portfolio_capital_allocations = np.array(portfolio_capital_allocations)\n",
    "\n",
    "weight_columns = [f'{desired_tickers[i]} Weight' for i in range(len(desired_columns))]\n",
    "data = {\n",
    "            'Return': [p_ret for p_ret in portfolio_returns],\n",
    "            'Volatility': [risk for risk in portfolio_risk],\n",
    "            'Sharpe Ratio': [sharpe for sharpe in portfolio_sharpe_ratios],\n",
    "            'Utility': [utility for utility in portfolio_utility],\n",
    "            'Capital Allocation Line Ret': [capital for capital in portfolio_capital_allocations]\n",
    "        }\n",
    "\n",
    "for i, col in enumerate(weight_columns):\n",
    "    data[col] = [w[i] for w in portfolio_weights]\n",
    "\n",
    "print(max_sharpe)\n",
    "\n",
    "\n",
    "df = pd.DataFrame(data)\n",
    "\n",
    "df[\"Capital Allocation Line Ret\"] = risk_free + ( max_sharpe * df[\"Volatility\"] )\n",
    "\n",
    "excel_file = 'portfolio_analysis.xlsx'\n",
    "df.to_excel(excel_file, index=False)\n",
    "print(f\"Data saved to {excel_file}\")\n",
    "\n",
    "\n",
    "# plt.figure(figsize=(10, 6))\n",
    "# plt.plot(portfolio_risk, portfolio_returns, )\n",
    "# plt.title('Efficient Frontier')\n",
    "# plt.xlabel('Risk (Standard Deviation)')\n",
    "# plt.ylabel('Return')\n",
    "# plt.show()    "
   ]
  },
  {
   "cell_type": "markdown",
   "metadata": {},
   "source": []
  }
 ],
 "metadata": {
  "kernelspec": {
   "display_name": "woody-uni",
   "language": "python",
   "name": "python3"
  },
  "language_info": {
   "codemirror_mode": {
    "name": "ipython",
    "version": 3
   },
   "file_extension": ".py",
   "mimetype": "text/x-python",
   "name": "python",
   "nbconvert_exporter": "python",
   "pygments_lexer": "ipython3",
   "version": "3.11.9"
  }
 },
 "nbformat": 4,
 "nbformat_minor": 2
}
