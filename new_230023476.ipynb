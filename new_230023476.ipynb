{
 "cells": [
  {
   "cell_type": "code",
   "execution_count": 10,
   "metadata": {},
   "outputs": [],
   "source": [
    "import pandas as pd\n",
    "import numpy as np\n",
    "import matplotlib.pyplot as plt\n",
    "\n",
    "%matplotlib inline"
   ]
  },
  {
   "cell_type": "code",
   "execution_count": 11,
   "metadata": {},
   "outputs": [],
   "source": [
    "expected_return=[0.1934,0.1575] \n",
    "volatility=[0.3025,0.219] \n",
    "corr_matrix=[[1,0.35],[0.35,1]] \n",
    "risk_free_rate= 0.045 \n",
    "portfolio_size=2 \n",
    "risk_aversion=3\n",
    "\n",
    "cov_matrix = [[0.0 for _ in range(len(volatility))] for _ in range(len(volatility))]\n",
    "\n",
    "for i in range(len(volatility)):\n",
    "    for j in range(len(volatility)):\n",
    "        cov_matrix[i][j] = volatility[i] * volatility[j] * corr_matrix[i][j]\n",
    "\n",
    "inv_cov_matrix = np.linalg.inv(cov_matrix)\n"
   ]
  },
  {
   "cell_type": "code",
   "execution_count": 13,
   "metadata": {},
   "outputs": [],
   "source": [
    "def calculate_intermediate_quantities():\n",
    "        \"\"\"Calculate intermediate quantities used in portfolio optimization.\"\"\"\n",
    "        u = np.ones(portfolio_size)\n",
    "        A = sum([sum(u[i] * expected_return[j] * inv_cov_matrix[i, j] for i in range(portfolio_size)) for j in range(portfolio_size)])\n",
    "        B = sum([sum(expected_return[i] * expected_return[j] * inv_cov_matrix[i, j] for i in range(portfolio_size)) for j in range(portfolio_size)])\n",
    "        C = sum([sum(u[i] * u[j] * inv_cov_matrix[i, j] for i in range(portfolio_size)) for j in range(portfolio_size)])\n",
    "        D = B * C - A ** 2\n",
    "        M = np.dot(np.ones(portfolio_size), inv_cov_matrix)\n",
    "        L = expected_return @ inv_cov_matrix\n",
    "\n",
    "        G = (B * M - A * L) / D\n",
    "        H = (C * L - A * M) / D\n",
    "        print(A)\n",
    "        \n",
    "        return C, G, H"
   ]
  }
 ],
 "metadata": {
  "kernelspec": {
   "display_name": "Python 3",
   "language": "python",
   "name": "python3"
  },
  "language_info": {
   "codemirror_mode": {
    "name": "ipython",
    "version": 3
   },
   "file_extension": ".py",
   "mimetype": "text/x-python",
   "name": "python",
   "nbconvert_exporter": "python",
   "pygments_lexer": "ipython3",
   "version": "3.12.4"
  }
 },
 "nbformat": 4,
 "nbformat_minor": 2
}
